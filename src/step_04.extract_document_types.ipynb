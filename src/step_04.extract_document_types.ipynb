{
 "cells": [
  {
   "cell_type": "code",
   "execution_count": 3,
   "metadata": {},
   "outputs": [
    {
     "data": {
      "text/plain": [
       "['Article',\n",
       " 'Book',\n",
       " 'Book chapter',\n",
       " 'Conference paper',\n",
       " 'Conference review',\n",
       " 'Editorial',\n",
       " 'Erratum',\n",
       " 'Retracted',\n",
       " 'Review']"
      ]
     },
     "execution_count": 3,
     "metadata": {},
     "output_type": "execute_result"
    }
   ],
   "source": [
    "from techminer2.database.tools import Query  # type: ignore\n",
    "\n",
    "\n",
    "(\n",
    "    Query()\n",
    "    #\n",
    "    .with_query_expression(\"SELECT DISTINCT document_type FROM database;\")\n",
    "    #\n",
    "    .where_root_directory_is(\"../\")\n",
    "    .where_database_is(\"main\")\n",
    "    .where_record_years_range_is(None, None)\n",
    "    .where_record_citations_range_is(None, None)\n",
    "    #\n",
    "    .run()\n",
    ")[\"document_type\"].sort_values().to_list()"
   ]
  }
 ],
 "metadata": {
  "kernelspec": {
   "display_name": ".venv",
   "language": "python",
   "name": "python3"
  },
  "language_info": {
   "codemirror_mode": {
    "name": "ipython",
    "version": 3
   },
   "file_extension": ".py",
   "mimetype": "text/x-python",
   "name": "python",
   "nbconvert_exporter": "python",
   "pygments_lexer": "ipython3",
   "version": "3.9.6"
  }
 },
 "nbformat": 4,
 "nbformat_minor": 2
}
