{
 "cells": [
  {
   "cell_type": "code",
   "execution_count": 2,
   "metadata": {},
   "outputs": [],
   "source": [
    "from techminer2.database.search import ConcordantDocuments  # type: ignore\n",
    "\n",
    "\n",
    "\n",
    "documents = []\n",
    "\n",
    "\n",
    "for pattern in [\n",
    "    \"MULTI_AGENT\",\n",
    "    \"MULTI_AGENT_APPROACH\",\n",
    "    \"MULTI_AGENT_FRAMEWORK\",\n",
    "    \"MULTI_AGENT_SYSTEM\",\n",
    "    \"MULTI_AGENT_TECHNOLOGY\",\n",
    "]:\n",
    "    documents += (\n",
    "        ConcordantDocuments()\n",
    "        #\n",
    "        .with_abstract_having_pattern(pattern)\n",
    "        #\n",
    "        .where_root_directory_is(\"../\")\n",
    "        .where_database_is(\"main\")\n",
    "        .where_record_years_range_is(None, None)\n",
    "        .where_record_citations_range_is(None, None)\n",
    "        .where_records_match(None)\n",
    "        .where_records_ordered_by(\"date_newest\")\n",
    "    ).run()[:30]\n",
    "\n",
    "\n",
    "documents = [documents[i : i + 10] for i in range(0, len(documents), 10)]\n",
    "\n",
    "for i_group, group in enumerate(documents):\n",
    "\n",
    "    group = \"\\n---\\n\\n\".join(group)\n",
    "    group = \"---\\n\\n\" + group + \"\\n\\n---\"\n",
    "    i_group = f\"{i_group:02d}\"\n",
    "    with open(\n",
    "        f\"../reports/sec_10_intro/first_paragraph_{i_group}.txt\",\n",
    "        \"wt\",\n",
    "        encoding=\"utf-8\",\n",
    "    ) as f:\n",
    "        print(group, file=f)"
   ]
  }
 ],
 "metadata": {
  "kernelspec": {
   "display_name": ".venv",
   "language": "python",
   "name": "python3"
  },
  "language_info": {
   "codemirror_mode": {
    "name": "ipython",
    "version": 3
   },
   "file_extension": ".py",
   "mimetype": "text/x-python",
   "name": "python",
   "nbconvert_exporter": "python",
   "pygments_lexer": "ipython3",
   "version": "3.9.6"
  }
 },
 "nbformat": 4,
 "nbformat_minor": 2
}
