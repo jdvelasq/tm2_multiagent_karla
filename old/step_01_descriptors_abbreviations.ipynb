{
 "cells": [
  {
   "cell_type": "code",
   "execution_count": 1,
   "id": "04552a10-a024-437f-a204-e385bfc8bd4e",
   "metadata": {},
   "outputs": [
    {
     "name": "stderr",
     "output_type": "stream",
     "text": [
      "Remplacing abbreviations: 100%|██████████| 103/103 [00:08<00:00, 11.71it/s]\n",
      "Processing hypened words: 100%|██████████| 2923/2923 [03:32<00:00, 13.76it/s]\n",
      "Processing sinonimous terms: 100%|██████████| 25/25 [00:01<00:00, 14.46it/s]\n",
      "Removing common starting words: 100%|██████████| 291/291 [00:03<00:00, 86.46it/s]\n",
      "Removing common ending words: 100%|██████████| 243/243 [00:02<00:00, 113.82it/s]\n"
     ]
    }
   ],
   "source": [
    "from techminer2.refine.thesaurus.abbreviations import apply_thesaurus\n",
    "from techminer2.refine.thesaurus.descriptors import list_cleanup\n",
    "from techminer2.refine.thesaurus.descriptors import prepare_thesaurus\n",
    "from techminer2.refine.thesaurus.descriptors import reset_thesaurus\n",
    "\n",
    "reset_thesaurus()\n",
    "apply_thesaurus()\n",
    "prepare_thesaurus()\n",
    "list_cleanup()"
   ]
  },
  {
   "cell_type": "code",
   "execution_count": null,
   "id": "f548ca4e",
   "metadata": {},
   "outputs": [],
   "source": [
    "from techminer2.search import concordances\n",
    "\n",
    "concordances(\n",
    "    #\n",
    "    # FUNCTION PARAMS:\n",
    "    search_for=\"AMP\",\n",
    "    top_n=30,\n",
    "    report_file=\"concordances_report.txt\",\n",
    "    prompt_file=\"concordances_prompt.txt\",\n",
    "    #\n",
    "    # DATABASE PARAMS:\n",
    "    root_dir=\"./\",\n",
    "    database=\"main\",\n",
    "    year_filter=(None, None),\n",
    "    cited_by_filter=(None, None),\n",
    ").contexts_"
   ]
  }
 ],
 "metadata": {
  "kernelspec": {
   "display_name": "Python 3 (ipykernel)",
   "language": "python",
   "name": "python3"
  },
  "language_info": {
   "codemirror_mode": {
    "name": "ipython",
    "version": 3
   },
   "file_extension": ".py",
   "mimetype": "text/x-python",
   "name": "python",
   "nbconvert_exporter": "python",
   "pygments_lexer": "ipython3",
   "version": "3.9.6"
  }
 },
 "nbformat": 4,
 "nbformat_minor": 5
}
