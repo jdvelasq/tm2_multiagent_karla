{
 "cells": [
  {
   "cell_type": "code",
   "execution_count": 1,
   "metadata": {},
   "outputs": [
    {
     "data": {
      "text/plain": [
       "['Editorial',\n",
       " 'Retracted',\n",
       " 'Erratum',\n",
       " 'Book chapter',\n",
       " 'Review',\n",
       " 'Conference paper',\n",
       " 'Conference review',\n",
       " 'Book',\n",
       " 'Article']"
      ]
     },
     "execution_count": 1,
     "metadata": {},
     "output_type": "execute_result"
    }
   ],
   "source": [
    "from techminer2.tools import query\n",
    "\n",
    "\n",
    "query(\n",
    "    expr=\"SELECT DISTINCT document_type FROM database;\",\n",
    "    #\n",
    "    # DATABASE PARAMS:\n",
    "    root_dir=\"./\",\n",
    "    database=\"main\",\n",
    "    year_filter=(None, None),\n",
    "    cited_by_filter=(None, None),\n",
    ")[\"document_type\"].to_list()"
   ]
  },
  {
   "cell_type": "code",
   "execution_count": 3,
   "metadata": {},
   "outputs": [
    {
     "data": {
      "text/plain": [
       "document_type\n",
       "Conference paper     583\n",
       "Article              475\n",
       "Book chapter          43\n",
       "Conference review     26\n",
       "Review                18\n",
       "Retracted              4\n",
       "Editorial              3\n",
       "Erratum                2\n",
       "Book                   2\n",
       "Name: count, dtype: int64"
      ]
     },
     "execution_count": 3,
     "metadata": {},
     "output_type": "execute_result"
    }
   ],
   "source": [
    "from techminer2.tools import query\n",
    "\n",
    "\n",
    "query(\n",
    "    expr=\"SELECT document_type FROM database;\",\n",
    "    #\n",
    "    # DATABASE PARAMS:\n",
    "    root_dir=\"./\",\n",
    "    database=\"main\",\n",
    "    year_filter=(None, None),\n",
    "    cited_by_filter=(None, None),\n",
    ")[\"document_type\"].value_counts()"
   ]
  },
  {
   "cell_type": "code",
   "execution_count": null,
   "metadata": {},
   "outputs": [],
   "source": []
  }
 ],
 "metadata": {
  "kernelspec": {
   "display_name": ".venv",
   "language": "python",
   "name": "python3"
  },
  "language_info": {
   "codemirror_mode": {
    "name": "ipython",
    "version": 3
   },
   "file_extension": ".py",
   "mimetype": "text/x-python",
   "name": "python",
   "nbconvert_exporter": "python",
   "pygments_lexer": "ipython3",
   "version": "3.9.6"
  }
 },
 "nbformat": 4,
 "nbformat_minor": 2
}
